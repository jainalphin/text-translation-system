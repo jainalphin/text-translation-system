{
 "cells": [
  {
   "cell_type": "markdown",
   "metadata": {
    "execution": {
     "iopub.execute_input": "2025-04-27T13:21:19.100006Z",
     "iopub.status.busy": "2025-04-27T13:21:19.099438Z",
     "iopub.status.idle": "2025-04-27T13:21:19.543221Z",
     "shell.execute_reply": "2025-04-27T13:21:19.542313Z",
     "shell.execute_reply.started": "2025-04-27T13:21:19.099975Z"
    }
   },
   "source": [
    "## 1. Initial Setup"
   ]
  },
  {
   "cell_type": "code",
   "execution_count": null,
   "metadata": {
    "trusted": true
   },
   "outputs": [],
   "source": [
    "# Change to working directory\n",
    "%cd /kaggle/working\n",
    "\n",
    "# Remove any existing repository to avoid conflicts\n",
    "%rm -r text-translation-system\n",
    "\n",
    "# Clone the repository containing the translation system code\n",
    "!git clone https://github.com/jainalphin/text-translation-system.git"
   ]
  },
  {
   "cell_type": "markdown",
   "metadata": {},
   "source": [
    "## 2. Install Dependencies"
   ]
  },
  {
   "cell_type": "code",
   "execution_count": null,
   "metadata": {
    "scrolled": true,
    "trusted": true
   },
   "outputs": [],
   "source": [
    "# Navigate to the repository directory\n",
    "%cd text-translation-system\n",
    "\n",
    "# Install required packages from requirements.txt\n",
    "!pip3 install -q -r requirements.txt"
   ]
  },
  {
   "cell_type": "markdown",
   "metadata": {},
   "source": [
    "## 3. Data Acquisition\n"
   ]
  },
  {
   "cell_type": "code",
   "execution_count": null,
   "metadata": {
    "trusted": true
   },
   "outputs": [],
   "source": [
    "# Ensure we're in the correct directory\n",
    "%cd /kaggle/working/text-translation-system\n",
    "\n",
    "# Install gdown for downloading files from Google Drive\n",
    "!pip install gdown\n",
    "\n",
    "# Download the English-Hindi parallel corpus dataset\n",
    "# This dataset contains sentence pairs for training the translation model\n",
    "!gdown https://drive.google.com/uc?id=1fEnWm-S0-5dpHY3nRxegAA0ofAIDY180 -O \"all_data_en_hin.csv\""
   ]
  },
  {
   "cell_type": "markdown",
   "metadata": {},
   "source": [
    "## 4. Model Training"
   ]
  },
  {
   "cell_type": "code",
   "execution_count": null,
   "metadata": {
    "trusted": true
   },
   "outputs": [],
   "source": [
    "# Navigate to the project directory\n",
    "%cd /kaggle/working/text-translation-system\n",
    "\n",
    "# Start the training pipeline with the following parameters:\n",
    "# - mode=pipeline: Executes the full training workflow ('finetune', 'translate', 'batch-translate', 'evaluate', 'pipeline', 'split-data')\n",
    "# - data_file: Path to the CSV file containing parallel text data\n",
    "# - source_lang: Source language code (en)\n",
    "# - target_langs: Target language code (hi)\n",
    "# - output_dir: Directory to save the model checkpoints and results\n",
    "# - epochs: Number of training epochs (1 for faster execution; increase for better results)\n",
    "# - val_size: Proportion of data to use for validation (0.005 = 0.5%)\n",
    "!python translation/model_trainer.py \\\n",
    "  --mode pipeline \\\n",
    "  --data_file all_data_en_hin.csv \\\n",
    "  --source_lang en \\\n",
    "  --target_langs hi \\\n",
    "  --output_dir ./my_translator_model \\\n",
    "  --epochs 1 \\\n",
    "  --val_size 0.005"
   ]
  }
 ],
 "metadata": {
  "kaggle": {
   "accelerator": "gpu",
   "dataSources": [
    {
     "datasetId": 7235654,
     "sourceId": 11560495,
     "sourceType": "datasetVersion"
    }
   ],
   "dockerImageVersionId": 31012,
   "isGpuEnabled": true,
   "isInternetEnabled": true,
   "language": "python",
   "sourceType": "notebook"
  },
  "kernelspec": {
   "display_name": "Python 3",
   "language": "python",
   "name": "python3"
  },
  "language_info": {
   "codemirror_mode": {
    "name": "ipython",
    "version": 3
   },
   "file_extension": ".py",
   "mimetype": "text/x-python",
   "name": "python",
   "nbconvert_exporter": "python",
   "pygments_lexer": "ipython3",
   "version": "3.11.11"
  }
 },
 "nbformat": 4,
 "nbformat_minor": 4
}
