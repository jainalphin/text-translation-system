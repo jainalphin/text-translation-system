{
 "cells": [
  {
   "cell_type": "markdown",
   "metadata": {},
   "source": [
    " ### This notebook demonstrates how to load and evaluate a pre-trained English-Hindi translation model"
   ]
  },
  {
   "cell_type": "markdown",
   "metadata": {},
   "source": [
    "## 1. Setup and Environment Preparation\n"
   ]
  },
  {
   "cell_type": "code",
   "execution_count": null,
   "metadata": {
    "trusted": true
   },
   "outputs": [],
   "source": [
    "# Change to working directory\n",
    "%cd /kaggle/working\n",
    "\n",
    "# Remove any existing repository to avoid conflicts\n",
    "%rm -r text-translation-system\n",
    "\n",
    "# Clone the repository\n",
    "!git clone https://github.com/jainalphin/text-translation-system.git\n",
    "\n",
    "# Navigate to the repository directory\n",
    "%cd /kaggle/working/text-translation-system\n",
    "\n",
    "# Install required packages from requirements.txt\n",
    "!pip3 install -q -r requirements.txt"
   ]
  },
  {
   "cell_type": "markdown",
   "metadata": {},
   "source": [
    "## 2. Download Dataset\n",
    "\n",
    "Next, we'll download the English-Hindi dataset that we'll use for testing our model."
   ]
  },
  {
   "cell_type": "code",
   "execution_count": null,
   "metadata": {
    "execution": {
     "iopub.execute_input": "2025-04-27T13:28:46.748512Z",
     "iopub.status.busy": "2025-04-27T13:28:46.748164Z",
     "iopub.status.idle": "2025-04-27T13:28:55.952705Z",
     "shell.execute_reply": "2025-04-27T13:28:55.951624Z",
     "shell.execute_reply.started": "2025-04-27T13:28:46.748485Z"
    },
    "trusted": true
   },
   "outputs": [
    {
     "name": "stdout",
     "output_type": "stream",
     "text": [
      "[Errno 2] No such file or directory: '/kaggle/working/text-translation-system'\n",
      "/kaggle/working\n",
      "Requirement already satisfied: gdown in /usr/local/lib/python3.11/dist-packages (5.2.0)\n",
      "Requirement already satisfied: beautifulsoup4 in /usr/local/lib/python3.11/dist-packages (from gdown) (4.13.3)\n",
      "Requirement already satisfied: filelock in /usr/local/lib/python3.11/dist-packages (from gdown) (3.18.0)\n",
      "Requirement already satisfied: requests[socks] in /usr/local/lib/python3.11/dist-packages (from gdown) (2.32.3)\n",
      "Requirement already satisfied: tqdm in /usr/local/lib/python3.11/dist-packages (from gdown) (4.67.1)\n",
      "Requirement already satisfied: soupsieve>1.2 in /usr/local/lib/python3.11/dist-packages (from beautifulsoup4->gdown) (2.6)\n",
      "Requirement already satisfied: typing-extensions>=4.0.0 in /usr/local/lib/python3.11/dist-packages (from beautifulsoup4->gdown) (4.13.1)\n",
      "Requirement already satisfied: charset-normalizer<4,>=2 in /usr/local/lib/python3.11/dist-packages (from requests[socks]->gdown) (3.4.1)\n",
      "Requirement already satisfied: idna<4,>=2.5 in /usr/local/lib/python3.11/dist-packages (from requests[socks]->gdown) (3.10)\n",
      "Requirement already satisfied: urllib3<3,>=1.21.1 in /usr/local/lib/python3.11/dist-packages (from requests[socks]->gdown) (2.3.0)\n",
      "Requirement already satisfied: certifi>=2017.4.17 in /usr/local/lib/python3.11/dist-packages (from requests[socks]->gdown) (2025.1.31)\n",
      "Requirement already satisfied: PySocks!=1.5.7,>=1.5.6 in /usr/local/lib/python3.11/dist-packages (from requests[socks]->gdown) (1.7.1)\n",
      "Downloading...\n",
      "From: https://drive.google.com/uc?id=1fEnWm-S0-5dpHY3nRxegAA0ofAIDY180\n",
      "To: /kaggle/working/all_data_en_hin.csv\n",
      "100%|███████████████████████████████████████| 1.16M/1.16M [00:00<00:00, 101MB/s]\n"
     ]
    }
   ],
   "source": [
    "# Navigate to the repository directory\n",
    "%cd /kaggle/working/text-translation-system\n",
    "\n",
    "# Install gdown for downloading from Google Drive\n",
    "!pip install gdown\n",
    "\n",
    "# Download the English-Hindi dataset\n",
    "!gdown https://drive.google.com/uc?id=1fEnWm-S0-5dpHY3nRxegAA0ofAIDY180 -O \"all_data_en_hin.csv\""
   ]
  },
  {
   "cell_type": "markdown",
   "metadata": {},
   "source": [
    "## 3. Model Acquisition"
   ]
  },
  {
   "cell_type": "code",
   "execution_count": null,
   "metadata": {
    "trusted": true
   },
   "outputs": [],
   "source": [
    "# Download the pre-trained translation model from Hugging Face\n",
    "# This model has been fine-tuned for English-Hindi translation\n",
    "!huggingface-cli download AlphJain/translation-model --local-dir /kaggle/working/my_translator_model/final"
   ]
  },
  {
   "cell_type": "markdown",
   "metadata": {},
   "source": [
    "## 4. Data Preparation"
   ]
  },
  {
   "cell_type": "code",
   "execution_count": null,
   "metadata": {
    "trusted": true
   },
   "outputs": [],
   "source": [
    "# Split the dataset into train, validation, and test sets\n",
    "!python translation/model_trainer.py --mode split-data \\\n",
    "  --data_file /kaggle/working/text-translation-system/all_data_en_hin.csv \\\n",
    "  --output_dir /kaggle/working/data"
   ]
  },
  {
   "cell_type": "markdown",
   "metadata": {},
   "source": [
    "## 5. Model Inference"
   ]
  },
  {
   "cell_type": "code",
   "execution_count": null,
   "metadata": {
    "trusted": true
   },
   "outputs": [],
   "source": [
    "%cd /kaggle/working/text-translation-system/\n",
    "!python translation/model_trainer.py --mode evaluate \\\n",
    "  --model /kaggle/working/my_translator_model/final \\\n",
    "  --test_file /kaggle/working/text-translation-system/my_translator_model/test.csv \\\n",
    "  --source_lang en \\\n",
    "  --target_langs hi \\\n",
    "  --output_dir /kaggle/working/evaluation_results"
   ]
  }
 ],
 "metadata": {
  "kaggle": {
   "accelerator": "none",
   "dataSources": [],
   "dockerImageVersionId": 31012,
   "isGpuEnabled": false,
   "isInternetEnabled": true,
   "language": "python",
   "sourceType": "notebook"
  },
  "kernelspec": {
   "display_name": "Python 3",
   "language": "python",
   "name": "python3"
  },
  "language_info": {
   "codemirror_mode": {
    "name": "ipython",
    "version": 3
   },
   "file_extension": ".py",
   "mimetype": "text/x-python",
   "name": "python",
   "nbconvert_exporter": "python",
   "pygments_lexer": "ipython3",
   "version": "3.11.11"
  }
 },
 "nbformat": 4,
 "nbformat_minor": 4
}
